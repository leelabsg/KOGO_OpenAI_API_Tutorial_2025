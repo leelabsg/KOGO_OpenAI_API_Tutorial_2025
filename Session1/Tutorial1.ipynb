{
 "cells": [
  {
   "cell_type": "code",
   "execution_count": null,
   "id": "a2d9de7a-1c7e-4c97-b629-a24adceb6985",
   "metadata": {},
   "outputs": [],
   "source": [
    "import pandas as pd\n",
    "import openai\n",
    "import requests\n",
    "\n",
    "#######################################\n",
    "# Set your API key and data path\n",
    "PATH = \"./DATA/\"\n",
    "\n",
    "## OpenAI API Key\n",
    "# valid for this education session only\n",
    "api_key = \"[API_KEY]\"\n",
    "\n",
    "# Data download from github and save to PATH\n",
    "!wget -P $PATH https://raw.githubusercontent.com/leelabsg/KOGO_OpenAI_API_Tutorial_2025/main/Session1/note1_ShorthandStyle.txt\n",
    "!wget -P $PATH https://raw.githubusercontent.com/leelabsg/KOGO_OpenAI_API_Tutorial_2025/main/Session1/note2_MIMICstyle.txt\n"
   ]
  },
  {
   "cell_type": "markdown",
   "id": "9ed03d64-963e-45e8-844e-43825ca93fb3",
   "metadata": {},
   "source": [
    "## Check Clinical Note Examples"
   ]
  },
  {
   "cell_type": "markdown",
   "id": "e1a538d9-96e3-48a4-bac3-b99d63c33275",
   "metadata": {},
   "source": [
    "**1) Clinical Note 불러 오는 방법 안내**\n",
    "\n",
    "파일에서 Clinical Note 불러오기\n",
    "\n",
    "- 텍스트(.txt) 파일에 작성된 노트를 불러오는 방식입니다.\n",
    "- 불러올 파일 경로를 정확히 지정해야 합니다.\n",
    "\n",
    "\n",
    "**2) 예시로 사용되는 note1과 note2는 서로 다른 내용입니다:**\n",
    "- note1: shorthand 스타일의 간단한 요약형 노트\n",
    "- note2: narrative 스타일의 서술형 노트로, 보다 상세한 문맥과 진단 경과가 포함되어 있습니다\n",
    "\n",
    "이 두 노트를 각각 사용하여 prompt 차이, 언어 차이, 노트 형식 차이에 따른 분석 결과 차이를 실험해볼 수 있습니다."
   ]
  },
  {
   "cell_type": "markdown",
   "id": "d494203d-f4e9-40c3-942f-0d147fedae7c",
   "metadata": {},
   "source": [
    "### 1) Shorthand version"
   ]
  },
  {
   "cell_type": "code",
   "execution_count": 2,
   "id": "c73ab559-3f44-4124-9b92-759bcff0a241",
   "metadata": {},
   "outputs": [],
   "source": [
    "## (1) Load note from .txt file\n",
    "with open(f\"{PATH}note1_ShorthandStyle.txt\", \"r\", encoding=\"utf-8\") as f: \n",
    "    note1 = f.read()"
   ]
  },
  {
   "cell_type": "code",
   "execution_count": 3,
   "id": "73c7480b-58e5-44b8-84e2-0489f8b628fe",
   "metadata": {},
   "outputs": [
    {
     "name": "stdout",
     "output_type": "stream",
     "text": [
      "#. T2DM  \n",
      "   Dx since 2010, recent HbA1c 9.1  \n",
      "   MTF → 설사, 복부팽만, 식욕저하, 무기력감  \n",
      "   Lactic acidosis (Lac 3.9) 의심 → 약 중단, 수액 치료  \n",
      "   MTF-induced lactic acidosis 의심 → 약 중단 후 회복, basal insulin 예정\n",
      "\n",
      "   Levemir 22 --- 10 units, 저녁 인슐린 잘 안 맞음\n",
      "\n",
      "\n",
      "#. HTN  \n",
      "   BP on admission 92/58\n",
      "   Losartan 유지 \n",
      "\n",
      "#. CKD stage 3  \n",
      "   Baseline Cr 1.6 → 입원 시 Cr 2.1  \n",
      "   수액 이후 신기능 호전, 투석 필요 없음  \n",
      "\n",
      "#. Dyslipidemia  \n",
      "   Atorvastatin  \n",
      "\n"
     ]
    }
   ],
   "source": [
    "## check loaded note\n",
    "print(note1)"
   ]
  },
  {
   "cell_type": "markdown",
   "id": "1d16770e-8775-4b11-bd95-b377c87be693",
   "metadata": {},
   "source": [
    "### 2) Narrative version (MIMIC-style) "
   ]
  },
  {
   "cell_type": "code",
   "execution_count": 4,
   "id": "bd6bd01a-048a-4d9e-8a37-941a678eade7",
   "metadata": {},
   "outputs": [],
   "source": [
    "## (1) Load note from .txt file\n",
    "with open(f\"{PATH}note2_MIMICstyle.txt\", \"r\", encoding=\"utf-8\") as f: \n",
    "    note2 = f.read()"
   ]
  },
  {
   "cell_type": "code",
   "execution_count": 5,
   "id": "85c38baa-30e5-4f54-8f55-fe4d57852156",
   "metadata": {},
   "outputs": [
    {
     "name": "stdout",
     "output_type": "stream",
     "text": [
      "History of Present Illness:  \n",
      "78-year-old female with a history of type 2 diabetes, hypertension, and CKD stage 3 who presented with generalized weakness, poor oral intake, and nausea.\n",
      "\n",
      "Two weeks prior to admission, she was started on metformin after a primary care visit revealed HbA1c of 9.1. Since initiation, the patient has developed persistent loose stools and intermittent abdominal cramping. No reported fever or vomiting. Her family noted a gradual decline in appetite and energy over the pa\n"
     ]
    }
   ],
   "source": [
    "## check loaded note\n",
    "print(note2[:500])  # 앞 500자만 출력"
   ]
  },
  {
   "cell_type": "markdown",
   "id": "96b0be7a",
   "metadata": {},
   "source": [
    "### 본 실습에서는 note1 (shorthand version)을 사용합니다. 만약 narrative version을 테스트하고 싶으면 아래의 코드를 수정하면 됩니다."
   ]
  },
  {
   "cell_type": "code",
   "execution_count": 6,
   "id": "2c3d0868",
   "metadata": {},
   "outputs": [],
   "source": [
    "note = note1"
   ]
  },
  {
   "cell_type": "markdown",
   "id": "54baf434-38f1-42fc-9c19-30debe646703",
   "metadata": {},
   "source": [
    "## 1. Setting OpenAI API"
   ]
  },
  {
   "cell_type": "code",
   "execution_count": 7,
   "id": "11fd4c11-5ab2-4657-b6fd-ed6a0a18ffa6",
   "metadata": {},
   "outputs": [],
   "source": [
    "client = openai.OpenAI(api_key=api_key) "
   ]
  },
  {
   "cell_type": "markdown",
   "id": "7cb52fc8-ebdd-47b4-b98f-4a25a46c2ac6",
   "metadata": {},
   "source": [
    "## [Task 1] Drug Name Extraction and drug code identification"
   ]
  },
  {
   "cell_type": "markdown",
   "id": "bc67584c-7864-4428-a9d3-8908a7bf8d96",
   "metadata": {},
   "source": [
    "이 Task에서는 임상노트로부터 언급된 약물명을 추출하는 작업을 수행합니다.\n",
    "\n",
    "- GPT에게 임상노트를 입력하고, 텍스트에서 **약물명** 추출 및 약물에 상응하는 **ATC CODE**를 추출하게 합니다.\n",
    "- 약물은 **일반명** 또는 **약어**(예: MFM = metformin)로 표현될 수 있습니다.\n",
    "\n"
   ]
  },
  {
   "cell_type": "markdown",
   "id": "25159641-9085-4f58-9012-7a375f93c037",
   "metadata": {},
   "source": [
    "### (1) Drug name only "
   ]
  },
  {
   "cell_type": "code",
   "execution_count": 8,
   "id": "5321c3c2-d636-452e-a8ea-1937970c6ae1",
   "metadata": {},
   "outputs": [],
   "source": [
    "prompt1_eng = f\"\"\"\n",
    "\n",
    "Task: Extract all drug names mentioned in the following clinical note.\n",
    "- Drug names may be written as abbreviations.\n",
    "- Return the list of drug names only, without any additional explanation.\n",
    "\n",
    "Clinical Note:\n",
    "{note}\n",
    "\"\"\""
   ]
  },
  {
   "cell_type": "code",
   "execution_count": 9,
   "id": "c1e14e32-a0b1-4524-8efa-333aa4967674",
   "metadata": {},
   "outputs": [
    {
     "name": "stdout",
     "output_type": "stream",
     "text": [
      "MTF\n",
      "Levemir\n",
      "insulin\n",
      "Losartan\n",
      "Atorvastatin\n"
     ]
    }
   ],
   "source": [
    "## English Prompt Version\n",
    "model=\"gpt-5\"\n",
    "\n",
    "response = client.chat.completions.create(\n",
    "    model=model,\n",
    "    messages=[\n",
    "        {\"role\": \"system\", \"content\": \"You are a clinical text extraction assistant.\"},\n",
    "        {\"role\": \"user\", \"content\": prompt1_eng}\n",
    "    ]\n",
    ")\n",
    "\n",
    "print(response.choices[0].message.content)"
   ]
  },
  {
   "cell_type": "markdown",
   "id": "0d5c50fb",
   "metadata": {},
   "source": [
    "### (2) Drug name+description+code"
   ]
  },
  {
   "cell_type": "code",
   "execution_count": 10,
   "id": "62baac55",
   "metadata": {},
   "outputs": [
    {
     "name": "stdout",
     "output_type": "stream",
     "text": [
      "Drug Name,Description,ATC Code\n",
      "Metformin (MTF),Biguanide antihyperglycemic for type 2 diabetes,A10BA02\n",
      "Levemir (insulin detemir),Long-acting basal insulin,A10AE05\n",
      "Losartan,Angiotensin II receptor blocker for hypertension and kidney protection,C09CA01\n",
      "Atorvastatin,HMG-CoA reductase inhibitor (statin) for dyslipidemia,C10AA05\n"
     ]
    }
   ],
   "source": [
    "prompt2_eng = f\"\"\"\n",
    "\n",
    "Task: Extract all drug names mentioned in the following clinical note.\n",
    "- Drug names may be written as abbreviations.\n",
    "- Return the list of drug names, simple descriptions, and corresponding ATC codes in a table format (CSV).\n",
    "\n",
    "Clinical Note:\n",
    "{note}\n",
    "\"\"\"\n",
    "\n",
    "model=\"gpt-5\"\n",
    "\n",
    "response = client.chat.completions.create(\n",
    "    model=model,\n",
    "    messages=[\n",
    "        {\"role\": \"system\", \"content\": \"You are a clinical text extraction assistant.\"},\n",
    "        {\"role\": \"user\", \"content\": prompt2_eng}\n",
    "    ]\n",
    ")\n",
    "\n",
    "\n",
    "print(response.choices[0].message.content)"
   ]
  },
  {
   "cell_type": "markdown",
   "id": "95c38cfc",
   "metadata": {},
   "source": [
    "### Usage check \n",
    "사용한 토큰을 아래의 코드를 이용해서 체크할 수 있습니다."
   ]
  },
  {
   "cell_type": "code",
   "execution_count": 11,
   "id": "41539529",
   "metadata": {},
   "outputs": [
    {
     "name": "stdout",
     "output_type": "stream",
     "text": [
      "CompletionUsage(completion_tokens=1448, prompt_tokens=251, total_tokens=1699, completion_tokens_details=CompletionTokensDetails(accepted_prediction_tokens=0, audio_tokens=0, reasoning_tokens=1344, rejected_prediction_tokens=0), prompt_tokens_details=PromptTokensDetails(audio_tokens=0, cached_tokens=0))\n"
     ]
    }
   ],
   "source": [
    "print(response.usage)"
   ]
  },
  {
   "cell_type": "markdown",
   "id": "8624cc74-ab5b-4e05-a54b-54d2816548ff",
   "metadata": {},
   "source": [
    "## [Task 2] Adverse Drug Reaction Detection"
   ]
  },
  {
   "cell_type": "markdown",
   "id": "8ba6e0b2-0ef9-4f9a-a951-b9069a9d73d2",
   "metadata": {},
   "source": [
    "이 Task에서는 임상노트에 언급된 **약물 부작용(Adverse Drug Reactions, ADR)** 을 탐지하는 작업을 수행합니다.\n",
    "\n",
    "- GPT에게 임상노트를 입력하고, 특정 약물 투여 이후 발생한 부작용을 **약물-증상 쌍(drug → symptom)** 형태로 추출하게 합니다.\n",
    "- 약물명은 약어로 표현될 수 있으며, 부작용은 명시적 또는 암시적으로 표현되어 있을 수 있습니다.\n",
    "\n",
    "**비교 실험:**\n",
    "**Minimal Prompt** vs **Detailed Prompt** Prompt 구조에 따른 차이 비교\n",
    " "
   ]
  },
  {
   "cell_type": "markdown",
   "id": "3dc6345a-3917-4c57-a4d2-92f036942ed0",
   "metadata": {},
   "source": [
    "### Minimal Prompt vs Detailed Prompt"
   ]
  },
  {
   "cell_type": "code",
   "execution_count": 12,
   "id": "a93ce4c1-cc14-4ba5-9db1-bc79904ebc8c",
   "metadata": {},
   "outputs": [],
   "source": [
    "## Simple Prompt Ver.\n",
    "simple_prompt2 = f\"\"\"\n",
    "\n",
    "Task: Extract all possible adverse drug reactions (ADRs) mentioned in the clinical note.\n",
    "- Return results in JSON format, with each item containing:\n",
    "  - \"drug\": drug name\n",
    "  - \"symptom\": symptom or adverse effect\n",
    "  - \"evidence\": supporting sentence or phrase from the note\n",
    "- No extra explanation.\n",
    "\n",
    "Clinical Note:\n",
    "{note}\n",
    "\"\"\""
   ]
  },
  {
   "cell_type": "code",
   "execution_count": 13,
   "id": "f0587561-5e9e-47f2-b32f-bac10d3f61f5",
   "metadata": {},
   "outputs": [],
   "source": [
    "## Detailed Prompt Ver. (More Specific Criteria with Clinical Reasoning)\n",
    "detailed_prompt2 = f\"\"\"\n",
    "\n",
    "Your task is to detect and extract confirmed adverse drug reactions (ADRs) from the following clinical note.\n",
    "\n",
    "ONLY extract ADRs if all of the following conditions are met:\n",
    "1. A drug is clearly administered or mentioned.\n",
    "2. A symptom appears *after* or **in relation to** that drug.\n",
    "3. The symptom is more likely due to the drug than the patient's underlying conditions (e.g., CKD, diabetes, dehydration, infection).\n",
    "4. The note provides sufficient context to support a reasonable causal relationship.\n",
    "\n",
    "For each confirmed ADR, return a structured JSON object with the following fields:\n",
    "- \"drug\": the name of the drug (e.g., Metformin)\n",
    "- \"symptom\": the adverse effect or symptom (e.g., Lactic acidosis)\n",
    "- \"evidence\": a direct quote from the note that supports the ADR (one sentence or phrase)\n",
    "- \"reason\": a brief explanation of why this is likely an ADR and not due to other causes\n",
    "\n",
    "If no ADR meets the above criteria, return an empty list.\n",
    "\n",
    "Format your output as a JSON list.\n",
    "\n",
    "Clinical Note:\n",
    "{note}\n",
    "\"\"\""
   ]
  },
  {
   "cell_type": "code",
   "execution_count": 14,
   "id": "2837aace-ac7a-4040-bb1d-5125ef34d440",
   "metadata": {},
   "outputs": [
    {
     "name": "stdout",
     "output_type": "stream",
     "text": [
      "[\n",
      "  {\n",
      "    \"drug\": \"MTF\",\n",
      "    \"symptom\": \"diarrhea\",\n",
      "    \"evidence\": \"MTF → 설사\"\n",
      "  },\n",
      "  {\n",
      "    \"drug\": \"MTF\",\n",
      "    \"symptom\": \"abdominal bloating/distension\",\n",
      "    \"evidence\": \"MTF → 복부팽만\"\n",
      "  },\n",
      "  {\n",
      "    \"drug\": \"MTF\",\n",
      "    \"symptom\": \"decreased appetite\",\n",
      "    \"evidence\": \"MTF → 식욕저하\"\n",
      "  },\n",
      "  {\n",
      "    \"drug\": \"MTF\",\n",
      "    \"symptom\": \"lethargy/fatigue\",\n",
      "    \"evidence\": \"MTF → 무기력감\"\n",
      "  },\n",
      "  {\n",
      "    \"drug\": \"MTF\",\n",
      "    \"symptom\": \"lactic acidosis\",\n",
      "    \"evidence\": \"MTF-induced lactic acidosis 의심 → 약 중단 후 회복\"\n",
      "  }\n",
      "]\n"
     ]
    }
   ],
   "source": [
    "## English Prompt Version\n",
    "response = client.chat.completions.create(\n",
    "    model=model,\n",
    "    messages=[\n",
    "        {\"role\": \"system\", \"content\": \"You are a clinical text extraction assistant.\"},\n",
    "        {\"role\": \"user\", \"content\": simple_prompt2}\n",
    "    ]\n",
    ")\n",
    "\n",
    "print(response.choices[0].message.content)"
   ]
  },
  {
   "cell_type": "code",
   "execution_count": 15,
   "id": "a37ece1c-5bc3-4888-831d-a8dee5607b6a",
   "metadata": {},
   "outputs": [
    {
     "name": "stdout",
     "output_type": "stream",
     "text": [
      "[\n",
      "  {\n",
      "    \"drug\": \"Metformin\",\n",
      "    \"symptom\": \"Diarrhea\",\n",
      "    \"evidence\": \"MTF → 설사, 복부팽만, 식욕저하, 무기력감\",\n",
      "    \"reason\": \"The note explicitly links diarrhea to metformin; GI upset is a known metformin adverse effect and is more likely than being caused by T2DM itself.\"\n",
      "  },\n",
      "  {\n",
      "    \"drug\": \"Metformin\",\n",
      "    \"symptom\": \"Abdominal bloating\",\n",
      "    \"evidence\": \"MTF → 설사, 복부팽만, 식욕저하, 무기력감\",\n",
      "    \"reason\": \"The clinician attributes abdominal bloating to metformin; this is a typical metformin GI side effect rather than due to diabetes.\"\n",
      "  },\n",
      "  {\n",
      "    \"drug\": \"Metformin\",\n",
      "    \"symptom\": \"Decreased appetite\",\n",
      "    \"evidence\": \"MTF → 설사, 복부팽만, 식욕저하, 무기력감\",\n",
      "    \"reason\": \"Decreased appetite is listed as occurring with metformin use, supporting a drug-related effect over baseline disease.\"\n",
      "  },\n",
      "  {\n",
      "    \"drug\": \"Metformin\",\n",
      "    \"symptom\": \"Fatigue\",\n",
      "    \"evidence\": \"MTF → 설사, 복부팽만, 식욕저하, 무기력감\",\n",
      "    \"reason\": \"Fatigue is grouped by the clinician as occurring with metformin, indicating a likely adverse effect rather than progression of chronic conditions.\"\n",
      "  },\n",
      "  {\n",
      "    \"drug\": \"Metformin\",\n",
      "    \"symptom\": \"Lactic acidosis\",\n",
      "    \"evidence\": \"MTF-induced lactic acidosis 의심 → 약 중단 후 회복; Lactic acidosis (Lac 3.9) 의심\",\n",
      "    \"reason\": \"Lactate was elevated and the condition improved after stopping metformin, a known rare cause of lactic acidosis; dechallenge supports causality despite CKD increasing risk.\"\n",
      "  }\n",
      "]\n"
     ]
    }
   ],
   "source": [
    "## English Prompt Version\n",
    "response = client.chat.completions.create(\n",
    "    model=model,\n",
    "    messages=[\n",
    "        {\"role\": \"system\", \"content\": \"You are a clinical text extraction assistant.\"},\n",
    "        {\"role\": \"user\", \"content\": detailed_prompt2}\n",
    "    ]\n",
    ")\n",
    "\n",
    "print(response.choices[0].message.content)"
   ]
  },
  {
   "cell_type": "markdown",
   "id": "83b0cbea-fd9b-456b-90d5-fafeb7e0c557",
   "metadata": {},
   "source": [
    "## [Task 3] Clinical Note Summarization"
   ]
  },
  {
   "cell_type": "markdown",
   "id": "9db9cd76-8c2e-401a-a235-0b00299294ba",
   "metadata": {},
   "source": [
    "이 Task에서는 임상노트에 포함된 핵심 정보를 GPT를 통해 한글로 **요약(summarization)** 하는 작업을 수행합니다.\n",
    "- 임상노트에는 환자의 병력, 진단, 투약, 검사 결과, 치료 계획 등의 정보가 포함되어 있으며, 종종 매우 길고 복잡합니다.\n",
    "- 이 Task는 환자에 대한 중요한 정보를 요약하여, 환자/보호자 설명에 활용될 수 있는 간결한 요약문을 생성하는 것이 목적입니다.\n",
    "- 출력은 한국어 요약문으로 생성됩니다.\n",
    "\n"
   ]
  },
  {
   "cell_type": "code",
   "execution_count": 16,
   "id": "ab920d78-61e5-4882-94df-7e0a6cd0c4d2",
   "metadata": {},
   "outputs": [],
   "source": [
    "prompt3_family = f\"\"\"\n",
    "\n",
    "\n",
    "Task: Summarize the following clinical note in simple language for the patient’s family.\n",
    "- Use non-technical, plain Korean language.\n",
    "- The summary should explain what happened, what was diagnosed, how it was treated, and what to expect.\n",
    "- Avoid complex terminology and abbreviations.\n",
    "\n",
    "Output language: Korean\n",
    "\n",
    "Clinical Note:\n",
    "{note}\n",
    "\"\"\""
   ]
  },
  {
   "cell_type": "code",
   "execution_count": null,
   "id": "e9157de3-6c04-4831-9bcc-9b78e883536f",
   "metadata": {},
   "outputs": [
    {
     "name": "stdout",
     "output_type": "stream",
     "text": [
      "다음은 가족분들이 이해하시기 쉽게 정리한 내용입니다.\n",
      "\n",
      "무슨 일이 있었나요?\n",
      "- 오랫동안 당뇨가 있었고, 최근에 혈당이 잘 조절되지 않았습니다.\n",
      "- 드시던 당뇨약을 복용한 뒤 설사, 배가 더부룩함, 식욕 저하, 무기력감이 생겼습니다.\n",
      "- 병원에 오셨을 때 혈압이 일시적으로 낮았고, 콩팥 기능 수치도 평소보다 나빠져 있었습니다.\n",
      "\n",
      "무엇으로 판단했나요?\n",
      "- 복용하던 당뇨약의 부작용으로, 몸에 산이 쌓이는 위험한 상태가 된 것으로 의심했습니다.\n",
      "- 콩팥 기능은 원래 조금 약한 편인데, 탈수 등으로 더 나빠진 상태가 겹친 것으로 보였습니다.\n",
      "- 콜레스테롤과 혈압 문제는 기존대로 관리 중입니다.\n",
      "\n",
      "어떻게 치료했나요?\n",
      "- 문제가 된 당뇨약은 바로 중단했습니다.\n",
      "- 수액(정맥 주사로 물과 전해질 보충)을 하여 탈수와 몸 상태를 빠르게 교정했고, 증상이 호전되었습니다.\n",
      "- 콩팥 기능도 수액 치료 후 좋아졌고, 투석은 필요하지 않았습니다.\n",
      "- 앞으로는 알약 대신 하루에 한 번 맞는 인슐린 주사로 혈당을 조절하기로 했습니다.\n",
      "- 혈압약과 콜레스테롤약은 계속 복용합니다.\n",
      "\n",
      "앞으로 무엇을 기대하고, 무엇을 주의해야 하나요?\n",
      "- 당뇨약(문제 되었던 약)은 다시 드시지 않습니다. 반드시 의료진과 상의 후에만 약을 변경하세요.\n",
      "- 인슐린 주사를 매일 같은 시간에 빠뜨리지 않고 맞는 것이 중요합니다. 교육해 드린 방법대로 혈당을 자주 확인해 주세요.\n",
      "- 평소보다 심한 설사, 구토, 심한 피로감, 숨이 가쁨, 어지러움, 소변이 아주 줄어듦 등이 있으면 바로 병원에 연락하세요.\n",
      "- 물을 충분히 드시고, 규칙적인 식사와 가벼운 운동으로 혈당을 함께 관리하면 좋습니다.\n",
      "- 외래에서 혈당 조절 상태와 콩팥 기능을 정기적으로 확인할 예정입니다. 예약 일정을 지켜 주세요.\n",
      "\n",
      "요약\n",
      "- 당뇨약 부작용으로 몸 상태가 나빠졌으나, 약을 중단하고 수액 치료 후 호전됨.\n",
      "- 앞으로는 하루 한 번 인슐린 주사로 혈당을 관리.\n",
      "- 콩팥 기능은 좋아졌고, 투석은 필요 없음.\n",
      "- 혈압약과 콜레스테롤약은 계속 복용하며, 증상 변화 시 즉시 병원에 연락.\n"
     ]
    }
   ],
   "source": [
    "## Family-Friendly Summary\n",
    "response = client.chat.completions.create(\n",
    "    model=model,\n",
    "    messages=[\n",
    "        {\"role\": \"system\", \"content\": \"You are a clinical text summarization assistant.\"},\n",
    "        {\"role\": \"user\", \"content\": prompt3_family}\n",
    "    ]\n",
    ")\n",
    "\n",
    "print(response.choices[0].message.content)"
   ]
  }
 ],
 "metadata": {
  "kernelspec": {
   "display_name": "torch",
   "language": "python",
   "name": "python3"
  },
  "language_info": {
   "codemirror_mode": {
    "name": "ipython",
    "version": 3
   },
   "file_extension": ".py",
   "mimetype": "text/x-python",
   "name": "python",
   "nbconvert_exporter": "python",
   "pygments_lexer": "ipython3",
   "version": "3.10.13"
  }
 },
 "nbformat": 4,
 "nbformat_minor": 5
}
