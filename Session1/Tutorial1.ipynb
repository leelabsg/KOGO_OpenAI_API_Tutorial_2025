{
  "cells": [
    {
      "cell_type": "code",
      "execution_count": 1,
      "id": "a2d9de7a-1c7e-4c97-b629-a24adceb6985",
      "metadata": {
        "colab": {
          "base_uri": "https://localhost:8080/"
        },
        "id": "a2d9de7a-1c7e-4c97-b629-a24adceb6985",
        "outputId": "411add88-26a6-476d-d756-cdba637947f6"
      },
      "outputs": [
        {
          "name": "stdout",
          "output_type": "stream",
          "text": [
            "--2025-09-26 01:08:44--  https://raw.githubusercontent.com/leelabsg/KOGO_OpenAI_API_Tutorial_2025/main/Session1/note1_ShorthandStyle.txt\n",
            "Resolving raw.githubusercontent.com (raw.githubusercontent.com)... 185.199.108.133, 185.199.109.133, 185.199.110.133, ...\n",
            "Connecting to raw.githubusercontent.com (raw.githubusercontent.com)|185.199.108.133|:443... connected.\n",
            "HTTP request sent, awaiting response... 200 OK\n",
            "Length: 536 [text/plain]\n",
            "Saving to: ‘./DATA/note1_ShorthandStyle.txt’\n",
            "\n",
            "\rnote1_ShorthandStyl   0%[                    ]       0  --.-KB/s               \rnote1_ShorthandStyl 100%[===================>]     536  --.-KB/s    in 0s      \n",
            "\n",
            "2025-09-26 01:08:44 (19.5 MB/s) - ‘./DATA/note1_ShorthandStyle.txt’ saved [536/536]\n",
            "\n",
            "--2025-09-26 01:08:44--  https://raw.githubusercontent.com/leelabsg/KOGO_OpenAI_API_Tutorial_2025/main/Session1/note2_MIMICstyle.txt\n",
            "Resolving raw.githubusercontent.com (raw.githubusercontent.com)... 185.199.108.133, 185.199.109.133, 185.199.110.133, ...\n",
            "Connecting to raw.githubusercontent.com (raw.githubusercontent.com)|185.199.108.133|:443... connected.\n",
            "HTTP request sent, awaiting response... 200 OK\n",
            "Length: 3172 (3.1K) [text/plain]\n",
            "Saving to: ‘./DATA/note2_MIMICstyle.txt’\n",
            "\n",
            "note2_MIMICstyle.tx 100%[===================>]   3.10K  --.-KB/s    in 0s      \n",
            "\n",
            "2025-09-26 01:08:44 (40.1 MB/s) - ‘./DATA/note2_MIMICstyle.txt’ saved [3172/3172]\n",
            "\n"
          ]
        }
      ],
      "source": [
        "import pandas as pd\n",
        "import openai\n",
        "import requests\n",
        "\n",
        "#######################################\n",
        "# Set your API key and data path\n",
        "PATH = \"./DATA/\"\n",
        "\n",
        "## OpenAI API Key\n",
        "# valid for this education session only\n",
        "api_key = \"[API_KEY]\"\n",
        "\n",
        "# Data download from github and save to PATH\n",
        "!wget -P $PATH https://raw.githubusercontent.com/leelabsg/KOGO_OpenAI_API_Tutorial_2025/main/Session1/note1_ShorthandStyle.txt\n",
        "!wget -P $PATH https://raw.githubusercontent.com/leelabsg/KOGO_OpenAI_API_Tutorial_2025/main/Session1/note2_MIMICstyle.txt\n"
      ]
    },
    {
      "cell_type": "markdown",
      "id": "9ed03d64-963e-45e8-844e-43825ca93fb3",
      "metadata": {
        "id": "9ed03d64-963e-45e8-844e-43825ca93fb3"
      },
      "source": [
        "## Check Clinical Note Examples"
      ]
    },
    {
      "cell_type": "markdown",
      "id": "e1a538d9-96e3-48a4-bac3-b99d63c33275",
      "metadata": {
        "id": "e1a538d9-96e3-48a4-bac3-b99d63c33275"
      },
      "source": [
        "**1) Clinical Note 불러 오는 방법 안내**\n",
        "\n",
        "파일에서 Clinical Note 불러오기\n",
        "\n",
        "- 텍스트(.txt) 파일에 작성된 노트를 불러오는 방식입니다.\n",
        "- 불러올 파일 경로를 정확히 지정해야 합니다.\n",
        "\n",
        "\n",
        "**2) 예시로 사용되는 note1과 note2는 서로 다른 내용입니다:**\n",
        "- note1: shorthand 스타일의 간단한 요약형 노트\n",
        "- note2: narrative 스타일의 서술형 노트로, 보다 상세한 문맥과 진단 경과가 포함되어 있습니다\n",
        "\n",
        "이 두 노트를 각각 사용하여 prompt 차이, 언어 차이, 노트 형식 차이에 따른 분석 결과 차이를 실험해볼 수 있습니다."
      ]
    },
    {
      "cell_type": "markdown",
      "id": "d494203d-f4e9-40c3-942f-0d147fedae7c",
      "metadata": {
        "id": "d494203d-f4e9-40c3-942f-0d147fedae7c"
      },
      "source": [
        "### 1) Shorthand version"
      ]
    },
    {
      "cell_type": "code",
      "execution_count": 2,
      "id": "c73ab559-3f44-4124-9b92-759bcff0a241",
      "metadata": {
        "id": "c73ab559-3f44-4124-9b92-759bcff0a241"
      },
      "outputs": [],
      "source": [
        "## (1) Load note from .txt file\n",
        "with open(f\"{PATH}note1_ShorthandStyle.txt\", \"r\", encoding=\"utf-8\") as f:\n",
        "    note1 = f.read()"
      ]
    },
    {
      "cell_type": "code",
      "execution_count": 3,
      "id": "73c7480b-58e5-44b8-84e2-0489f8b628fe",
      "metadata": {
        "colab": {
          "base_uri": "https://localhost:8080/"
        },
        "id": "73c7480b-58e5-44b8-84e2-0489f8b628fe",
        "outputId": "3b577675-5474-4863-c423-8b8f63598e4c"
      },
      "outputs": [
        {
          "name": "stdout",
          "output_type": "stream",
          "text": [
            "#. T2DM  \n",
            "   Dx since 2010, recent HbA1c 9.1  \n",
            "   MTF → 설사, 복부팽만, 식욕저하, 무기력감  \n",
            "   Lactic acidosis (Lac 3.9) 의심 → 약 중단, 수액 치료  \n",
            "   MTF-induced lactic acidosis 의심 → 약 중단 후 회복, basal insulin 예정\n",
            "\n",
            "   Levemir 22 --- 10 units, 저녁 인슐린 잘 안 맞음\n",
            "\n",
            "\n",
            "#. HTN  \n",
            "   BP on admission 92/58\n",
            "   Losartan 유지 \n",
            "\n",
            "#. CKD stage 3  \n",
            "   Baseline Cr 1.6 → 입원 시 Cr 2.1  \n",
            "   수액 이후 신기능 호전, 투석 필요 없음  \n",
            "\n",
            "#. Dyslipidemia  \n",
            "   Atorvastatin  \n",
            "\n"
          ]
        }
      ],
      "source": [
        "## check loaded note\n",
        "print(note1)"
      ]
    },
    {
      "cell_type": "markdown",
      "id": "1d16770e-8775-4b11-bd95-b377c87be693",
      "metadata": {
        "id": "1d16770e-8775-4b11-bd95-b377c87be693"
      },
      "source": [
        "### 2) Narrative version (MIMIC-style)"
      ]
    },
    {
      "cell_type": "code",
      "execution_count": 4,
      "id": "bd6bd01a-048a-4d9e-8a37-941a678eade7",
      "metadata": {
        "id": "bd6bd01a-048a-4d9e-8a37-941a678eade7"
      },
      "outputs": [],
      "source": [
        "## (1) Load note from .txt file\n",
        "with open(f\"{PATH}note2_MIMICstyle.txt\", \"r\", encoding=\"utf-8\") as f:\n",
        "    note2 = f.read()"
      ]
    },
    {
      "cell_type": "code",
      "execution_count": 5,
      "id": "85c38baa-30e5-4f54-8f55-fe4d57852156",
      "metadata": {
        "colab": {
          "base_uri": "https://localhost:8080/"
        },
        "id": "85c38baa-30e5-4f54-8f55-fe4d57852156",
        "outputId": "b5003f68-af23-40f5-a63b-c04ed2214070"
      },
      "outputs": [
        {
          "name": "stdout",
          "output_type": "stream",
          "text": [
            "History of Present Illness:  \n",
            "78-year-old female with a history of type 2 diabetes, hypertension, and CKD stage 3 who presented with generalized weakness, poor oral intake, and nausea.\n",
            "\n",
            "Two weeks prior to admission, she was started on metformin after a primary care visit revealed HbA1c of 9.1. Since initiation, the patient has developed persistent loose stools and intermittent abdominal cramping. No reported fever or vomiting. Her family noted a gradual decline in appetite and energy over the pa\n"
          ]
        }
      ],
      "source": [
        "## check loaded note\n",
        "print(note2[:500])  # 앞 500자만 출력"
      ]
    },
    {
      "cell_type": "markdown",
      "id": "96b0be7a",
      "metadata": {
        "id": "96b0be7a"
      },
      "source": [
        "### 본 실습에서는 note1 (shorthand version)을 사용합니다. 만약 narrative version을 테스트하고 싶으면 아래의 코드를 수정하면 됩니다."
      ]
    },
    {
      "cell_type": "code",
      "execution_count": 6,
      "id": "2c3d0868",
      "metadata": {
        "id": "2c3d0868"
      },
      "outputs": [],
      "source": [
        "note = note1"
      ]
    },
    {
      "cell_type": "markdown",
      "id": "54baf434-38f1-42fc-9c19-30debe646703",
      "metadata": {
        "id": "54baf434-38f1-42fc-9c19-30debe646703"
      },
      "source": [
        "## 1. Setting OpenAI API"
      ]
    },
    {
      "cell_type": "code",
      "execution_count": 7,
      "id": "11fd4c11-5ab2-4657-b6fd-ed6a0a18ffa6",
      "metadata": {
        "id": "11fd4c11-5ab2-4657-b6fd-ed6a0a18ffa6"
      },
      "outputs": [],
      "source": [
        "client = openai.OpenAI(api_key=api_key)"
      ]
    },
    {
      "cell_type": "markdown",
      "id": "7cb52fc8-ebdd-47b4-b98f-4a25a46c2ac6",
      "metadata": {
        "id": "7cb52fc8-ebdd-47b4-b98f-4a25a46c2ac6"
      },
      "source": [
        "## [Task 1] Drug Name Extraction and drug code identification"
      ]
    },
    {
      "cell_type": "markdown",
      "id": "bc67584c-7864-4428-a9d3-8908a7bf8d96",
      "metadata": {
        "id": "bc67584c-7864-4428-a9d3-8908a7bf8d96"
      },
      "source": [
        "이 Task에서는 임상노트로부터 언급된 약물명을 추출하는 작업을 수행합니다.\n",
        "\n",
        "- GPT에게 임상노트를 입력하고, 텍스트에서 **약물명** 추출 및 약물에 상응하는 **ATC CODE**를 추출하게 합니다.\n",
        "- 약물은 **일반명** 또는 **약어**(예: MFM = metformin)로 표현될 수 있습니다.\n",
        "\n"
      ]
    },
    {
      "cell_type": "markdown",
      "id": "25159641-9085-4f58-9012-7a375f93c037",
      "metadata": {
        "id": "25159641-9085-4f58-9012-7a375f93c037"
      },
      "source": [
        "### (1) Drug name only"
      ]
    },
    {
      "cell_type": "code",
      "execution_count": 19,
      "id": "5321c3c2-d636-452e-a8ea-1937970c6ae1",
      "metadata": {
        "id": "5321c3c2-d636-452e-a8ea-1937970c6ae1"
      },
      "outputs": [],
      "source": [
        "prompt1_eng = f\"\"\"\n",
        "\n",
        "Task: Extract all drug names mentioned in the following clinical note.\n",
        "- Drug names may be written as abbreviations.\n",
        "- Return the list of drug names only, without any additional explanation.\n",
        "\n",
        "Clinical Note:\n",
        "{note}\n",
        "\"\"\""
      ]
    },
    {
      "cell_type": "code",
      "execution_count": 23,
      "id": "c1e14e32-a0b1-4524-8efa-333aa4967674",
      "metadata": {
        "colab": {
          "base_uri": "https://localhost:8080/"
        },
        "id": "c1e14e32-a0b1-4524-8efa-333aa4967674",
        "outputId": "7d358250-fbe6-4f0f-d22a-0518d429b9b7"
      },
      "outputs": [
        {
          "name": "stdout",
          "output_type": "stream",
          "text": [
            "MTF\n",
            "insulin\n",
            "Levemir\n",
            "Losartan\n",
            "Atorvastatin\n"
          ]
        }
      ],
      "source": [
        "## English Prompt Version\n",
        "model=\"gpt-5\" # select model\n",
        "\n",
        "response = client.responses.create(\n",
        "    model=model,\n",
        "    instructions=\"You are a clinical text extraction assistant.\",\n",
        "    input=prompt1_eng\n",
        ")\n",
        "\n",
        "print(response.output_text)"
      ]
    },
    {
      "cell_type": "markdown",
      "id": "0d5c50fb",
      "metadata": {
        "id": "0d5c50fb"
      },
      "source": [
        "### (2) Drug name+description+code"
      ]
    },
    {
      "cell_type": "code",
      "execution_count": 24,
      "id": "62baac55",
      "metadata": {
        "colab": {
          "base_uri": "https://localhost:8080/"
        },
        "id": "62baac55",
        "outputId": "53d8c363-e3df-4a6f-eeee-78448613c051"
      },
      "outputs": [
        {
          "name": "stdout",
          "output_type": "stream",
          "text": [
            "Drug name,Description,ATC code\n",
            "MTF (metformin),Biguanide oral antihyperglycemic for type 2 diabetes,A10BA02\n",
            "Levemir (insulin detemir),Long-acting/basal insulin analog,A10AE05\n",
            "Losartan,Angiotensin II receptor blocker antihypertensive,C09CA01\n",
            "Atorvastatin,HMG-CoA reductase inhibitor (statin) for dyslipidemia,C10AA05\n"
          ]
        }
      ],
      "source": [
        "prompt2_eng = f\"\"\"\n",
        "\n",
        "Task: Extract all drug names mentioned in the following clinical note.\n",
        "- Drug names may be written as abbreviations.\n",
        "- Return the list of drug names, simple descriptions, and corresponding ATC codes in a table format (CSV).\n",
        "\n",
        "Clinical Note:\n",
        "{note}\n",
        "\"\"\"\n",
        "\n",
        "response = client.responses.create(\n",
        "    model=model,\n",
        "    instructions=\"You are a clinical text extraction assistant.\",\n",
        "    input=prompt2_eng\n",
        ")\n",
        "\n",
        "print(response.output_text)"
      ]
    },
    {
      "cell_type": "markdown",
      "id": "95c38cfc",
      "metadata": {
        "id": "95c38cfc"
      },
      "source": [
        "### (3) Usage check\n",
        "사용한 토큰을 아래의 코드를 이용해서 체크할 수 있습니다."
      ]
    },
    {
      "cell_type": "code",
      "execution_count": 25,
      "id": "41539529",
      "metadata": {
        "colab": {
          "base_uri": "https://localhost:8080/"
        },
        "id": "41539529",
        "outputId": "044ece10-fa2e-484a-bde0-233f8e532f5d"
      },
      "outputs": [
        {
          "name": "stdout",
          "output_type": "stream",
          "text": [
            "ResponseUsage(input_tokens=251, input_tokens_details=InputTokensDetails(cached_tokens=0), output_tokens=1319, output_tokens_details=OutputTokensDetails(reasoning_tokens=1216), total_tokens=1570)\n"
          ]
        }
      ],
      "source": [
        "print(response.usage)"
      ]
    },
    {
      "cell_type": "markdown",
      "id": "8624cc74-ab5b-4e05-a54b-54d2816548ff",
      "metadata": {
        "id": "8624cc74-ab5b-4e05-a54b-54d2816548ff"
      },
      "source": [
        "## [Task 2] Adverse Drug Reaction Detection"
      ]
    },
    {
      "cell_type": "markdown",
      "id": "8ba6e0b2-0ef9-4f9a-a951-b9069a9d73d2",
      "metadata": {
        "id": "8ba6e0b2-0ef9-4f9a-a951-b9069a9d73d2"
      },
      "source": [
        "이 Task에서는 임상노트에 언급된 **약물 부작용(Adverse Drug Reactions, ADR)** 을 탐지하는 작업을 수행합니다.\n",
        "\n",
        "- GPT에게 임상노트를 입력하고, 특정 약물 투여 이후 발생한 부작용을 **약물-증상 쌍(drug → symptom)** 형태로 추출하게 합니다.\n",
        "- 약물명은 약어로 표현될 수 있으며, 부작용은 명시적 또는 암시적으로 표현되어 있을 수 있습니다.\n",
        "\n",
        "\n"
      ]
    },
    {
      "cell_type": "markdown",
      "id": "lDJjZ2LvnIXy",
      "metadata": {
        "id": "lDJjZ2LvnIXy"
      },
      "source": [
        "### (1) ADR"
      ]
    },
    {
      "cell_type": "code",
      "execution_count": 26,
      "id": "a93ce4c1-cc14-4ba5-9db1-bc79904ebc8c",
      "metadata": {
        "id": "a93ce4c1-cc14-4ba5-9db1-bc79904ebc8c"
      },
      "outputs": [],
      "source": [
        "## Prompt\n",
        "prompt2_adr = f\"\"\"\n",
        "\n",
        "Task: Extract all possible adverse drug reactions (ADRs) mentioned in the clinical note.\n",
        "- Return results in JSON format, with each item containing:\n",
        "  - \"drug\": drug name\n",
        "  - \"symptom\": symptom or adverse effect\n",
        "  - \"evidence\": supporting sentence or phrase from the note\n",
        "- No extra explanation.\n",
        "\n",
        "Clinical Note:\n",
        "{note}\n",
        "\"\"\""
      ]
    },
    {
      "cell_type": "code",
      "execution_count": 27,
      "id": "2837aace-ac7a-4040-bb1d-5125ef34d440",
      "metadata": {
        "colab": {
          "base_uri": "https://localhost:8080/"
        },
        "id": "2837aace-ac7a-4040-bb1d-5125ef34d440",
        "outputId": "176d2606-0f05-4598-b80f-abfbff7bcfee"
      },
      "outputs": [
        {
          "name": "stdout",
          "output_type": "stream",
          "text": [
            "[\n",
            "  {\n",
            "    \"drug\": \"MTF\",\n",
            "    \"symptom\": \"설사\",\n",
            "    \"evidence\": \"MTF → 설사, 복부팽만, 식욕저하, 무기력감\"\n",
            "  },\n",
            "  {\n",
            "    \"drug\": \"MTF\",\n",
            "    \"symptom\": \"복부팽만\",\n",
            "    \"evidence\": \"MTF → 설사, 복부팽만, 식욕저하, 무기력감\"\n",
            "  },\n",
            "  {\n",
            "    \"drug\": \"MTF\",\n",
            "    \"symptom\": \"식욕저하\",\n",
            "    \"evidence\": \"MTF → 설사, 복부팽만, 식욕저하, 무기력감\"\n",
            "  },\n",
            "  {\n",
            "    \"drug\": \"MTF\",\n",
            "    \"symptom\": \"무기력감\",\n",
            "    \"evidence\": \"MTF → 설사, 복부팽만, 식욕저하, 무기력감\"\n",
            "  },\n",
            "  {\n",
            "    \"drug\": \"MTF\",\n",
            "    \"symptom\": \"lactic acidosis\",\n",
            "    \"evidence\": \"MTF-induced lactic acidosis 의심 → 약 중단 후 회복, basal insulin 예정\"\n",
            "  }\n",
            "]\n"
          ]
        }
      ],
      "source": [
        "\n",
        "response = client.responses.create(\n",
        "    model=model,\n",
        "    instructions=\"You are a clinical text extraction assistant.\",\n",
        "    input=prompt2_adr\n",
        ")\n",
        "\n",
        "print(response.output_text)"
      ]
    },
    {
      "cell_type": "markdown",
      "id": "FaUFHivt_0Aq",
      "metadata": {
        "id": "FaUFHivt_0Aq"
      },
      "source": [
        "### (2) Verification Agent\n",
        "\n",
        "위의 LLM이 생성한 답변이 맞는지 검증하기 위한 Agent를 생성해서 답변을 검증합니다."
      ]
    },
    {
      "cell_type": "code",
      "execution_count": 28,
      "id": "aYimxtMa3fhf",
      "metadata": {
        "colab": {
          "base_uri": "https://localhost:8080/"
        },
        "id": "aYimxtMa3fhf",
        "outputId": "780e21e7-afcd-4c35-9113-84a81c297718"
      },
      "outputs": [
        {
          "name": "stdout",
          "output_type": "stream",
          "text": [
            "[\n",
            "  {\n",
            "    \"drug\": \"MTF\",\n",
            "    \"symptom\": \"설사\",\n",
            "    \"agree\": true,\n",
            "    \"comments\": \"Agree. The medical note explicitly lists '설사' after MTF and diarrhea is a well-known, common gastrointestinal adverse effect of metformin.\"\n",
            "  },\n",
            "  {\n",
            "    \"drug\": \"MTF\",\n",
            "    \"symptom\": \"복부팽만\",\n",
            "    \"agree\": true,\n",
            "    \"comments\": \"Agree. '복부팽만' (abdominal bloating) is documented in the note and can occur with metformin as part of GI intolerance.\"\n",
            "  },\n",
            "  {\n",
            "    \"drug\": \"MTF\",\n",
            "    \"symptom\": \"식욕저하\",\n",
            "    \"agree\": true,\n",
            "    \"comments\": \"Agree. Decreased appetite is recorded in the note and is a recognized, albeit less specific, side effect associated with metformin use.\"\n",
            "  },\n",
            "  {\n",
            "    \"drug\": \"MTF\",\n",
            "    \"symptom\": \"무기력감\",\n",
            "    \"agree\": true,\n",
            "    \"comments\": \"Agree, with caution. The note lists '무기력감' (fatigue/lethargy). Fatigue is nonspecific and could be due to many causes (infection, uremia from CKD/AKI, metabolic disturbance, or lactic acidosis), so although it is attributed here to MTF, the association is less specific than for GI symptoms.\"\n",
            "  },\n",
            "  {\n",
            "    \"drug\": \"MTF\",\n",
            "    \"symptom\": \"lactic acidosis\",\n",
            "    \"agree\": true,\n",
            "    \"comments\": \"Agree, with nuance. The clinicians suspected MTF-induced lactic acidosis and stopped metformin with subsequent improvement, supporting the association. However, the reported lactate (3.9 mmol/L) is elevated but below common thresholds often used to define severe lactic acidosis (>5 mmol/L) and arterial pH/acidosis data are not provided. CKD/AKI increases risk, so the suspicion is reasonable despite the lactate value being borderline.\"\n",
            "  }\n",
            "]\n"
          ]
        }
      ],
      "source": [
        "\n",
        "verifier_prompt = \"\"\"\n",
        "If you disagree, provide counterarguments.\n",
        "Provide agree and comment for each drug and side effect pairs.\n",
        "Respond in JSON:\n",
        "{\"agree\": true/false, \"comments\": \"...\"}.\n",
        "\n",
        "\"\"\"\n",
        "\n",
        "extractor_output = response.output_text\n",
        "verifier_input=f\"{verifier_prompt}\\n\\nExtractorAgent output:\\n{extractor_output}\\n\\nMedical note:\\n{note}\"\n",
        "\n",
        "model=\"gpt-5-mini\" # change model\n",
        "\n",
        "verifier_response = client.responses.create(\n",
        "    model=model,\n",
        "    instructions=\"You are VerifierAgent. Your job is to check ExtractorAgent's identified side effects.\",\n",
        "    input=verifier_input\n",
        ")\n",
        "\n",
        "print(verifier_response.output_text)\n"
      ]
    },
    {
      "cell_type": "markdown",
      "id": "83b0cbea-fd9b-456b-90d5-fafeb7e0c557",
      "metadata": {
        "id": "83b0cbea-fd9b-456b-90d5-fafeb7e0c557"
      },
      "source": [
        "## [Task 3] Clinical Note Summarization"
      ]
    },
    {
      "cell_type": "markdown",
      "id": "9db9cd76-8c2e-401a-a235-0b00299294ba",
      "metadata": {
        "id": "9db9cd76-8c2e-401a-a235-0b00299294ba"
      },
      "source": [
        "이 Task에서는 임상노트에 포함된 핵심 정보를 GPT를 통해 한글로 **요약(summarization)** 하는 작업을 수행합니다.\n",
        "- 임상노트에는 환자의 병력, 진단, 투약, 검사 결과, 치료 계획 등의 정보가 포함되어 있으며, 종종 매우 길고 복잡합니다.\n",
        "- 이 Task는 환자에 대한 중요한 정보를 요약하여, 환자/보호자 설명에 활용될 수 있는 간결한 요약문을 생성하는 것이 목적입니다.\n",
        "- 출력은 한국어 요약문으로 생성됩니다.\n",
        "\n"
      ]
    },
    {
      "cell_type": "code",
      "execution_count": 29,
      "id": "ab920d78-61e5-4882-94df-7e0a6cd0c4d2",
      "metadata": {
        "id": "ab920d78-61e5-4882-94df-7e0a6cd0c4d2"
      },
      "outputs": [],
      "source": [
        "prompt3_family = f\"\"\"\n",
        "Task: Summarize the following clinical note in simple language for the patient’s family.\n",
        "- Use non-technical, plain Korean language.\n",
        "- The summary should explain what happened, what was diagnosed, how it was treated, and what to expect.\n",
        "- Avoid complex terminology and abbreviations.\n",
        "\n",
        "Output language: Korean\n",
        "\n",
        "Clinical Note:\n",
        "{note2}\n",
        "\"\"\""
      ]
    },
    {
      "cell_type": "code",
      "execution_count": 30,
      "id": "e9157de3-6c04-4831-9bcc-9b78e883536f",
      "metadata": {
        "colab": {
          "base_uri": "https://localhost:8080/"
        },
        "id": "e9157de3-6c04-4831-9bcc-9b78e883536f",
        "outputId": "f42be947-7b0f-45b0-d976-42de7884fc13"
      },
      "outputs": [
        {
          "name": "stdout",
          "output_type": "stream",
          "text": [
            "가족분들을 위한 요약\n",
            "\n",
            "무슨 일이 있었나요?\n",
            "- 어르신은 원래 당뇨병, 혈압, 콩팥 기능 저하가 있습니다.\n",
            "- 2주 전 당 조절을 위해 새로 시작한 당뇨약(메트포르민)을 드신 뒤부터 설사가 계속되고, 배가 짧게 아픈 일이 있었으며, 식욕이 떨어지고 기운이 없어졌습니다.\n",
            "- 병원에 왔을 때 혈압이 많이 낮고 맥이 빨랐습니다. 피검사에서 콩팥 기능 수치가 악화되어 있었고, 몸이 산성 쪽으로 기운 상태(몸에 산성 물질이 쌓인 상태)로 나왔습니다. 감염을 의심할 만한 증거는 없었습니다.\n",
            "\n",
            "무엇으로 진단했나요?\n",
            "- 최근 시작한 메트포르민이, 원래 콩팥 기능이 약한 상황과 겹쳐서, 탈수와 함께 몸의 산성도가 올라간 것으로 의심했습니다.\n",
            "- 탈수로 인해 혈압이 낮아진 것도 함께 있었습니다.\n",
            "\n",
            "어떻게 치료했나요?\n",
            "- 메트포르민은 즉시 중단했습니다. 앞으로도 다시 드시면 안 됩니다.\n",
            "- 정맥으로 수액을 충분히 주었고, 산성도를 낮추는 약을 함께 사용했습니다.\n",
            "- 48시간 동안 지켜보는 동안 혈압과 전신 상태가 점차 좋아졌고, 콩팥 수치도 호전되었습니다. 투석은 필요하지 않았습니다.\n",
            "- 당 조절을 위해 먹는 당뇨약은 잠시 모두 중단했고, 피당 수치를 보며 밤에 맞는 소량의 인슐린으로 조절을 시작하기로 했습니다.\n",
            "- 가슴 엑스레이와 콩팥 초음파는 큰 이상이 없었습니다. 소변 검사에서 감염 소견은 없었습니다.\n",
            "\n",
            "현재 상태와 앞으로의 계획\n",
            "- 전반적으로 많이 안정되었습니다. 수액 치료 후 혈압과 컨디션이 좋아졌고, 콩팥 기능도 회복 중입니다.\n",
            "- 퇴원 후에는 원래 지내시던 시설로 돌아가시며, 메트포르민은 앞으로 절대 드시면 안 됩니다.\n",
            "- 혈당은 하루 두 번 체크하고, 결과에 따라 인슐린 용량을 천천히 조절할 예정입니다.\n",
            "- 콩팥 전문의와 당뇨 전문의 진료를 1–2주 안에 받도록 예약합니다.\n",
            "- 응급 상황이 생기면 심폐소생술을 포함한 모든 치료를 받기로 결정되어 있습니다.\n",
            "\n",
            "퇴원 약 안내(쉽게)\n",
            "- 밤에 맞는 인슐린 6단위: 당 조절을 위해 사용합니다.\n",
            "- 로사르탄 50mg 하루 1회: 혈압 조절 및 콩팥 보호를 위해.\n",
            "- 아토르바스타틴 20mg 하루 1회: 콜레스테롤 관리.\n",
            "- 칼슘 보충제 500mg 하루 2회.\n",
            "- 아세트아미노펜 650mg 하루 3번까지, 통증이나 열이 있을 때만.\n",
            "- 위 보호제(판토프라졸) 40mg 하루 1회.\n",
            "\n",
            "집에서 이렇게 해 주세요\n",
            "- 물을 자주 조금씩 충분히 드세요. 설사가 있으면 더 신경 써서 수분을 보충해 주세요.\n",
            "- 식사는 기름지지 않고 자극적이지 않은 음식으로, 소량씩 자주 드세요.\n",
            "- 혈당은 아침과 저녁에 체크하고, 기록을 남겨 외래 진료 때 보여 주세요.\n",
            "- 메트포르민은 앞으로 절대 복용하지 마세요. 새로운 약을 시작할 때는 꼭 의료진과 상의하세요.\n",
            "\n",
            "바로 병원에 알려야 하는 상황\n",
            "- 심한 어지러움, 기절할 것 같은 느낌, 숨이 참, 가슴 통증\n",
            "- 소변이 급격히 줄거나 거의 나오지 않음\n",
            "- 설사나 구토가 멈추지 않아 물도 못 마시는 경우\n",
            "- 정신이 멍해지거나 심하게 처지는 경우\n",
            "- 혈당이 너무 낮은 듯한 증상: 식은땀, 떨림, 어지러움, 심한 허기\n",
            "- 혈당이 너무 높은 듯한 증상: 심한 목마름, 잦은 소변, 시야 흐림, 극심한 피로\n",
            "\n",
            "기대되는 경과\n",
            "- 수액 치료 후 상태가 좋아졌고, 집에서도 점차 회복이 이어질 것으로 보입니다.\n",
            "- 인슐린과 생활관리로 당을 안정시키고, 콩팥 기능을 보호하는 것이 중요합니다.\n",
            "- 1–2주 후 외래 진료에서 혈당 기록과 전반 상태를 다시 평가하고, 인슐린 용량과 약을 조절할 예정입니다.\n",
            "\n",
            "가족분들이 곁에서 수분 섭취와 식사, 혈당 기록을 도와주시고, 위의 위험 신호가 보이면 바로 병원에 연락해 주세요.\n"
          ]
        }
      ],
      "source": [
        "## Family-Friendly Summary\n",
        "model = \"gpt-5\" # select model\n",
        "\n",
        "response = client.responses.create(\n",
        "    model=model,\n",
        "    instructions=\"You are a clinical text summarization assistant.\",\n",
        "    input=prompt3_family\n",
        ")\n",
        "\n",
        "print(response.output_text)"
      ]
    }
  ],
  "metadata": {
    "colab": {
      "provenance": []
    },
    "kernelspec": {
      "display_name": "torch",
      "language": "python",
      "name": "python3"
    },
    "language_info": {
      "codemirror_mode": {
        "name": "ipython",
        "version": 3
      },
      "file_extension": ".py",
      "mimetype": "text/x-python",
      "name": "python",
      "nbconvert_exporter": "python",
      "pygments_lexer": "ipython3",
      "version": "3.10.13"
    }
  },
  "nbformat": 4,
  "nbformat_minor": 5
}
